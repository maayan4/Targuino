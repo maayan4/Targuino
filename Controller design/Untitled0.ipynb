{
 "metadata": {
  "name": "",
  "signature": "sha256:0f1e067611d5050538d5daaa69f49a091640e836d41f0a682d99afddaa2533aa"
 },
 "nbformat": 3,
 "nbformat_minor": 0,
 "worksheets": []
}