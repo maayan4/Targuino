{
 "metadata": {
  "name": "",
  "signature": "sha256:951a6da994416afe2aa41b3fe0f72a8162bc76f5ab2da8d71b4d9eac1f7e7696"
 },
 "nbformat": 3,
 "nbformat_minor": 0,
 "worksheets": [
  {
   "cells": [
    {
     "cell_type": "code",
     "collapsed": false,
     "input": [
      "__author__ = 'raziele'\n",
      "\n",
      "import cmath, io, datetime, math\n",
      "import numpy as np\n",
      "import pylab\n",
      "\n",
      "fname = '/Users/raziele/Reps/Targuino/RawData/log2015.dat'\n",
      "fmode = 'U'\n",
      "\n",
      "TEXT_SPACE = \"\\t\"\n",
      "END_OF_LINE = \"\\r\"\n",
      "\n",
      "time = np.array([])\n",
      "PH = np.array([])\n",
      "PL = np.array([])\n",
      "R = np.array([])\n",
      "DT = np.array([])\n",
      "LV = np.array([])\n",
      "AV = np.array([])\n",
      "CU = np.array([])\n",
      "FA = np.array([])\n",
      "FB = np.array([])\n",
      "PS = np.array([])\n",
      "\n",
      "with open(fname,fmode) as fid:\n",
      "    print(\"Opening file. Processing...\")\n",
      "    for line in fid:\n",
      "        rowTmp=line.split()\n",
      "        time = np.r_[time,float(rowTmp[0])/1000]\n",
      "        PH = np.r_[PH,float(rowTmp[1])]\n",
      "        PL = np.r_[PL, float(rowTmp[2])]\n",
      "        R = np.r_[R,float(rowTmp[3])]\n",
      "        DT = np.r_[DT,float(rowTmp[4])]\n",
      "        LV = np.r_[LV,float(rowTmp[5])]\n",
      "        AV = np.r_[AV,float(rowTmp[6])]\n",
      "        CU = np.r_[CU,float(rowTmp[7])]\n",
      "        FA = np.r_[FA,float(rowTmp[8])]\n",
      "        FB = np.r_[FB,float(rowTmp[9])]\n",
      "        PS = np.r_[PS,float(rowTmp[10])]\n",
      "\n",
      "\n",
      "ind990=np.where(AV!=990)\n",
      "\n",
      "AV990=AV\n",
      "AV990[ind990]=0\n",
      "AV990=AV990.cumsum()\n",
      "AV990=AV990/AV990.max()\n",
      "pylab.figure()\n",
      "pylab.plot(AV990,'k+')\n",
      "# print(\"\\ncleaning...\\n\")\n",
      "# zeroVal=np.where(AV==990)\n",
      "# time = np.delete(time,zeroVal)\n",
      "# PL = np.delete(PL,zeroVal)\n",
      "# PH = np.delete(PH,zeroVal)\n",
      "# R = np.delete(R,zeroVal)\n",
      "# DT = np.delete(DT,zeroVal)\n",
      "# LV = np.delete(LV,zeroVal)\n",
      "# AV = np.delete(AV,zeroVal)\n",
      "# CU = np.delete(CU,zeroVal)\n",
      "# FA = np.delete(FA,zeroVal)\n",
      "# FB = np.delete(FB,zeroVal)\n",
      "# PS = np.delete(PS,zeroVal)\n",
      "\n",
      "# fig1=plt.figure()\n",
      "# plt.plot(time,LV,'r--',time,PH,'ks')\n",
      "# plt.show()\n",
      "\n",
      "#val=np.polyfit(PH,LV,6,full=True)\n",
      "\n",
      "#print(\"finish\")\n",
      "\n",
      "# Kalman filter\n",
      "\n",
      "# intial parameters\n",
      "n_iter = LV.size\n",
      "sz = (n_iter,) # size of array\n",
      "z = LV # observations\n",
      "\n",
      "Q = 1e-5 # process variance\n",
      "\n",
      "# allocate space for arrays\n",
      "xhat=np.zeros(sz)      # a posteri estimate of x\n",
      "P=np.zeros(sz)         # a posteri error estimate\n",
      "xhatminus=np.zeros(sz) # a priori estimate of x\n",
      "Pminus=np.zeros(sz)    # a priori error estimate\n",
      "K=np.zeros(sz)         # gain or blending factor\n",
      "\n",
      "R = 0.1**2 # estimate of measurement variance, change to see effect\n",
      "\n",
      "# intial guesses\n",
      "xhat[0] = 0.0\n",
      "P[0] = 1.0\n",
      "\n",
      "for k in range(1,n_iter):\n",
      "    # time update\n",
      "    xhatminus[k] = xhat[k-1]\n",
      "    Pminus[k] = P[k-1]+Q\n",
      "\n",
      "    # measurement update\n",
      "    K[k] = Pminus[k]/( Pminus[k]+R )\n",
      "    xhat[k] = xhatminus[k]+K[k]*(z[k]-xhatminus[k])\n",
      "    P[k] = (1-K[k])*Pminus[k]\n",
      "\n",
      "pylab.figure()\n",
      "pylab.plot(z,'k+',label='noisy measurements')\n",
      "pylab.plot(xhat,'b-',label='a posteri estimate')\n",
      "pylab.plot(PH/PH.max(), 'k--', label='input')\n",
      "#pylab.axhline(x,color='g',label='truth value')\n",
      "pylab.legend()\n",
      "pylab.xlabel('time')\n",
      "pylab.ylabel('Velocity')\n",
      "\n",
      "pylab.figure()\n",
      "valid_iter = range(1,n_iter) # Pminus not valid at step 0\n",
      "pylab.plot(valid_iter,Pminus[valid_iter],label='a priori error estimate')\n",
      "pylab.xlabel('Iteration')\n",
      "pylab.ylabel('$(Voltage)^2$')\n",
      "pylab.setp(pylab.gca(),'ylim',[0,.01])\n",
      "pylab.show()"
     ],
     "language": "python",
     "metadata": {},
     "outputs": [
      {
       "output_type": "stream",
       "stream": "stdout",
       "text": [
        "Opening file. Processing...\n"
       ]
      }
     ],
     "prompt_number": 1
    },
    {
     "cell_type": "code",
     "collapsed": false,
     "input": [
      "%pylab inline"
     ],
     "language": "python",
     "metadata": {},
     "outputs": [
      {
       "output_type": "stream",
       "stream": "stdout",
       "text": [
        "Populating the interactive namespace from numpy and matplotlib\n"
       ]
      },
      {
       "output_type": "stream",
       "stream": "stderr",
       "text": [
        "WARNING: pylab import has clobbered these variables: ['pylab']\n",
        "`%matplotlib` prevents importing * from pylab and numpy\n"
       ]
      }
     ],
     "prompt_number": 2
    },
    {
     "cell_type": "code",
     "collapsed": false,
     "input": [],
     "language": "python",
     "metadata": {},
     "outputs": []
    }
   ],
   "metadata": {}
  }
 ]
}